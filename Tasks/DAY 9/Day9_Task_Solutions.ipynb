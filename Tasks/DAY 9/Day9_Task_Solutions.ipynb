{
 "cells": [
  {
   "cell_type": "markdown",
   "metadata": {},
   "source": [
    "# Day9_Task_Solutions(1929121_Soumayan)"
   ]
  },
  {
   "cell_type": "markdown",
   "metadata": {},
   "source": [
    "### Write a Python program to check whether a number is negative, positive or zero."
   ]
  },
  {
   "cell_type": "code",
   "execution_count": 1,
   "metadata": {},
   "outputs": [
    {
     "name": "stdout",
     "output_type": "stream",
     "text": [
      "Enter a number: 8\n",
      "Positive number\n"
     ]
    }
   ],
   "source": [
    "num = float(input(\"Enter a number: \"))\n",
    "if num > 0:\n",
    "   print(\"Positive number\")\n",
    "elif num == 0:\n",
    "   print(\"Zero\")\n",
    "else:\n",
    "   print(\"Negative number\")\n"
   ]
  },
  {
   "cell_type": "markdown",
   "metadata": {},
   "source": [
    "### Write a Python program to check whether a number is divisible by 5 and 11 or not."
   ]
  },
  {
   "cell_type": "code",
   "execution_count": 2,
   "metadata": {},
   "outputs": [
    {
     "name": "stdout",
     "output_type": "stream",
     "text": [
      " Please Enter any Positive Integer : 78\n",
      "Given Number 78 is Not Divisible by 5 and 11\n"
     ]
    }
   ],
   "source": [
    "number = int(input(\" Please Enter any Positive Integer : \"))\n",
    "\n",
    "if((number % 5 == 0) and (number % 11 == 0)):\n",
    "    print(\"Given Number {0} is Divisible by 5 and 11\".format(number))\n",
    "else:\n",
    "    print(\"Given Number {0} is Not Divisible by 5 and 11\".format(number))\n"
   ]
  },
  {
   "cell_type": "markdown",
   "metadata": {},
   "source": [
    "### Write a Python program to check whether a year is leap year or not."
   ]
  },
  {
   "cell_type": "code",
   "execution_count": 5,
   "metadata": {},
   "outputs": [
    {
     "name": "stdout",
     "output_type": "stream",
     "text": [
      "Please Enter the Year Number you wish: 2020\n",
      "2020 is a Leap Year\n"
     ]
    }
   ],
   "source": [
    "year = int(input(\"Please Enter the Year Number you wish: \"))\n",
    "\n",
    "if (( year%400 == 0)or (( year%4 == 0 ) and ( year%100 != 0))):\n",
    "    print(\"%d is a Leap Year\" %year)\n",
    "else:\n",
    "    print(\"%d is Not the Leap Year\" %year)"
   ]
  },
  {
   "cell_type": "markdown",
   "metadata": {},
   "source": [
    "### Write a Python program to check whether a character is alphabet or not."
   ]
  },
  {
   "cell_type": "code",
   "execution_count": 8,
   "metadata": {},
   "outputs": [
    {
     "name": "stdout",
     "output_type": "stream",
     "text": [
      "Enter a Character: \n",
      "T\n",
      "It is an alphabet\n"
     ]
    }
   ],
   "source": [
    "print(\"Enter a Character: \")\n",
    "c = input()\n",
    "if c>='a' and c<='z':\n",
    "    print(\"\\nIt is an alphabet\")\n",
    "elif c>='A' and c<='Z':\n",
    "    print(\"It is an alphabet\")\n",
    "else:\n",
    "    print(\"It is not an alphabet!\")"
   ]
  },
  {
   "cell_type": "markdown",
   "metadata": {},
   "source": [
    "### Write a Python program to input any alphabet and check whether it is vowel or consonant."
   ]
  },
  {
   "cell_type": "code",
   "execution_count": 13,
   "metadata": {},
   "outputs": [
    {
     "name": "stdout",
     "output_type": "stream",
     "text": [
      "Input a letter of the alphabet: E\n",
      "E is a Vowel.\n"
     ]
    }
   ],
   "source": [
    "l = input(\"Input a letter of the alphabet: \")\n",
    "\n",
    "if l in ('a', 'e', 'i', 'o', 'u','A','E','I','O','U'):\n",
    "    print(\"%s is a Vowel.\" % l)\n",
    "else:\n",
    "    print(\"%s is a Consonant.\" % l)"
   ]
  },
  {
   "cell_type": "markdown",
   "metadata": {},
   "source": [
    "### Write a Python program to input any character and check whether it is alphabet, digit or special character."
   ]
  },
  {
   "cell_type": "code",
   "execution_count": 15,
   "metadata": {},
   "outputs": [
    {
     "name": "stdout",
     "output_type": "stream",
     "text": [
      "Enter Your Own Character : %\n",
      "% is a Special Character\n"
     ]
    }
   ],
   "source": [
    "ch = input(\"Enter Your Own Character : \")\n",
    "\n",
    "if((ch >= 'a' and ch <= 'z') or (ch >= 'A' and ch <= 'Z')): \n",
    "    print(\"{} is an Alphabet\".format(ch)) \n",
    "elif(ch >= '0' and ch <= '9'):\n",
    "    print(\"{} is a Digit\".format(ch))\n",
    "else:\n",
    "    print(\"{} is a Special Character\".format(ch))"
   ]
  },
  {
   "cell_type": "markdown",
   "metadata": {},
   "source": [
    "### Write a Python program to check whether a character is uppercase or lowercase alphabet."
   ]
  },
  {
   "cell_type": "code",
   "execution_count": 20,
   "metadata": {},
   "outputs": [
    {
     "name": "stdout",
     "output_type": "stream",
     "text": [
      "Enter any character : y\n",
      "y is LOWERCASE alphabet.\n"
     ]
    }
   ],
   "source": [
    "ch = input(\"Enter any character : \")\n",
    "\n",
    "if ch.isupper() :\n",
    "    print(\"{} is UPPERCASE alphabet.\".format(ch))\n",
    "\n",
    "elif ch.islower() :\n",
    "    print(\"{} is LOWERCASE alphabet.\".format(ch))\n",
    "\n",
    "else :\n",
    "    print(\"{} is not an alphabet.\".format(ch))"
   ]
  },
  {
   "cell_type": "markdown",
   "metadata": {},
   "source": [
    "### Write a Python program to input week number and print weekday."
   ]
  },
  {
   "cell_type": "code",
   "execution_count": 23,
   "metadata": {},
   "outputs": [
    {
     "name": "stdout",
     "output_type": "stream",
     "text": [
      "Enter weekday number: 5\n",
      "\n",
      "Friday\n"
     ]
    }
   ],
   "source": [
    "day = int(input(\"Enter weekday number: \"))\n",
    "\n",
    "if day == 1 :\n",
    "    print(\"\\nMonday\");\n",
    "\n",
    "elif day == 2 :\n",
    "    print(\"\\nTuesday\")\n",
    "\n",
    "elif day == 3 :\n",
    "    print(\"\\nWednesday\")\n",
    "\n",
    "elif day == 4 :\n",
    "    print(\"\\nThursday\")\n",
    "\n",
    "elif day  == 5 :\n",
    "    print(\"\\nFriday\")\n",
    "\n",
    "elif day == 6 :\n",
    "    print(\"\\nSaturday\")\n",
    "\n",
    "elif day == 7 :\n",
    "    print(\"\\nSunday\")\n",
    "\n",
    "else :\n",
    "    print(\"\\nPlease enter weekday number between 1-7.\")"
   ]
  },
  {
   "cell_type": "markdown",
   "metadata": {},
   "source": [
    "### Write a Python program to count number of notes for each note in given amount."
   ]
  },
  {
   "cell_type": "code",
   "execution_count": 32,
   "metadata": {},
   "outputs": [
    {
     "name": "stdout",
     "output_type": "stream",
     "text": [
      "Enter Amount to be paid : 6354\n",
      "The amount has 3 number of Notes of Value Rs 2000\n",
      "The amount has 0 number of Notes of Value Rs 500\n",
      "The amount has 1 number of Notes of Value Rs 200\n",
      "The amount has 1 number of Notes of Value Rs 100\n",
      "The amount has 1 number of Notes of Value Rs 50\n",
      "The amount has 0 number of Notes of Value Rs 20\n",
      "The amount has 0 number of Notes of Value Rs 10\n",
      "The amount has 0 number of Notes of Value Rs 5\n",
      "The amount has 2 number of Notes of Value Rs 2\n",
      "The amount has 0 number of Notes of Value Rs 1\n"
     ]
    }
   ],
   "source": [
    "notes = (2000,500,200,100,50,20,10,5,2,1)\n",
    "\n",
    "amount = int(input(\"Enter Amount to be paid : \"))\n",
    "\n",
    "for currency in notes:\n",
    "    count = amount // currency\n",
    "    print(\"The amount has {} number of Notes of Value Rs {}\".format(count,currency))\n",
    "    amount = amount % currency"
   ]
  },
  {
   "cell_type": "markdown",
   "metadata": {},
   "source": [
    "### Write a Python program to input angles of a triangle and check whether triangle is valid or not."
   ]
  },
  {
   "cell_type": "code",
   "execution_count": 2,
   "metadata": {},
   "outputs": [
    {
     "name": "stdout",
     "output_type": "stream",
     "text": [
      "Please Enter the First Angle of a Triangle: 45\n",
      "Please Enter the Second Angle of a Triangle: 60\n",
      "Please Enter the Third Angle of a Triangle: 75\n",
      "This is a Valid Triangle\n"
     ]
    }
   ],
   "source": [
    "a = int(input('Please Enter the First Angle of a Triangle: '))\n",
    "b = int(input('Please Enter the Second Angle of a Triangle: '))\n",
    "c = int(input('Please Enter the Third Angle of a Triangle: '))\n",
    "\n",
    "\n",
    "total = a + b + c\n",
    "\n",
    "if total == 180:\n",
    "    print(\"This is a Valid Triangle\")\n",
    "else:\n",
    "    print(\"This is an Invalid Triangle\")"
   ]
  },
  {
   "cell_type": "markdown",
   "metadata": {},
   "source": [
    "### Write a Python program to input all sides of a triangle and check whether triangle is valid or not."
   ]
  },
  {
   "cell_type": "code",
   "execution_count": 4,
   "metadata": {},
   "outputs": [
    {
     "name": "stdout",
     "output_type": "stream",
     "text": [
      "Input lengths of the triangle sides: \n",
      "x: 4\n",
      "y: 5\n",
      "z: 8\n",
      "This is a Valid Triangle\n"
     ]
    }
   ],
   "source": [
    "print(\"Input lengths of the triangle sides: \")\n",
    "x = int(input(\"x: \"))\n",
    "y = int(input(\"y: \"))\n",
    "z = int(input(\"z: \"))\n",
    "\n",
    "if a + b <= c or a + c <= b or b + c <= a:\n",
    "    print(\"This is an Invalid Triangle\")\n",
    "else:\n",
    "    print(\"This is a Valid Triangle\")\n",
    "    "
   ]
  },
  {
   "cell_type": "markdown",
   "metadata": {},
   "source": [
    "### Write a Python program to check whether the triangle is equilateral, isosceles or scalene triangle."
   ]
  },
  {
   "cell_type": "code",
   "execution_count": 1,
   "metadata": {},
   "outputs": [
    {
     "name": "stdout",
     "output_type": "stream",
     "text": [
      "Input lengths of the triangle sides: \n",
      "x: 4\n",
      "y: 6\n",
      "z: 4\n",
      "isosceles triangle\n"
     ]
    }
   ],
   "source": [
    "print(\"Input lengths of the triangle sides: \")\n",
    "x = int(input(\"x: \"))\n",
    "y = int(input(\"y: \"))\n",
    "z = int(input(\"z: \"))\n",
    "\n",
    "if x == y == z:\n",
    "\tprint(\"Equilateral triangle\")\n",
    "elif x==y or y==z or z==x:\n",
    "\tprint(\"isosceles triangle\")\n",
    "else:\n",
    "\tprint(\"Scalene triangle\")\n"
   ]
  },
  {
   "cell_type": "markdown",
   "metadata": {},
   "source": [
    "### Write a Python program to input marks of five subjects Physics, Chemistry, Biology, Mathematics and Computer. Calculate percentage and grade according to following: Percentage >= 90% : Grade A, Percentage >= 80% : Grade B, Percentage >= 70% : Grade C ,Percentage >= 60% : Grade D , Percentage >= 40% : Grade E , Percentage < 40% : Grade F."
   ]
  },
  {
   "cell_type": "code",
   "execution_count": 6,
   "metadata": {},
   "outputs": [
    {
     "name": "stdout",
     "output_type": "stream",
     "text": [
      "Enter marks of 5 subjects\n",
      "Enter Physics marks: 77\n",
      "Enter Chemistry marks: 89\n",
      "Enter Biology marks: 94\n",
      "Enter Mathematics marks: 67\n",
      "Enter Computer marks: 88\n",
      "Grade B with 83.0% percentage accquired\n"
     ]
    }
   ],
   "source": [
    "print(\"Enter marks of 5 subjects\")\n",
    "\n",
    "a = float(input(\"Enter Physics marks: \"))\n",
    "b = float(input(\"Enter Chemistry marks: \"))\n",
    "c = float(input(\"Enter Biology marks: \"))\n",
    "d = float(input(\"Enter Mathematics marks: \"))\n",
    "e = float(input(\"Enter Computer marks: \"))\n",
    "\n",
    "per = (a+b+c+d+e)/5\n",
    "\n",
    "if per>=90:\n",
    "    print(\"Grade A with {}% percentage accquired\".format(per))\n",
    "elif per>=80:\n",
    "    print(\"Grade B with {}% percentage accquired\".format(per))\n",
    "elif per>=70:\n",
    "    print(\"Grade C with {}% percentage accquired\".format(per))\n",
    "elif per>=60:\n",
    "    print(\"Grade D with {}% percentage accquired\".format(per))\n",
    "elif per>=40:\n",
    "    print(\"Grade E with {}% percentage accquired\".format(per))\n",
    "else:\n",
    "    print(\"Grade F with {}% percentage accquired\".format(per))"
   ]
  },
  {
   "cell_type": "markdown",
   "metadata": {},
   "source": [
    "### Write a Python program to input basic salary of an employee and calculate its Gross salary according to following: Basic Salary <= 10000 : HRA = 20%, DA = 80% , Basic Salary <= 20000 : HRA = 25%, DA = 90% , Basic Salary > 20000 : HRA = 30%, DA = 95%              "
   ]
  },
  {
   "cell_type": "code",
   "execution_count": 15,
   "metadata": {},
   "outputs": [
    {
     "name": "stdout",
     "output_type": "stream",
     "text": [
      "Enter Basic Salary of Employee: 15800\n",
      "Gross Salary of employee is 33970.0 rupees.\n"
     ]
    }
   ],
   "source": [
    "b_sal = float(input(\"Enter Basic Salary of Employee: \"))\n",
    "\n",
    "if b_sal <=10000:\n",
    "    g_sal = b_sal + (0.2*b_sal) + (0.8*b_sal)\n",
    "elif b_sal <=20000:\n",
    "    g_sal = b_sal + (0.25*b_sal) + (0.90*b_sal)\n",
    "else:\n",
    "    g_sal = b_sal + (0.3*b_sal) + (0.95*b_sal)\n",
    "    \n",
    "print(\"Gross Salary of employee is {} rupees.\".format(g_sal))"
   ]
  },
  {
   "cell_type": "markdown",
   "metadata": {},
   "source": [
    "### Write a Python Program to input electricity unit charges and calculate total electricity bill according to the given condition: For first 50 units Rs. 0.50/unit; For next 100 units Rs. 0.75/unit; For next 100 units Rs. 1.20/unit; For unit above 250 Rs. 1.50/unit.An additional surcharge of 20% is added to the bill\n",
    "\n",
    "\n",
    "\n",
    "\n"
   ]
  },
  {
   "cell_type": "code",
   "execution_count": 24,
   "metadata": {},
   "outputs": [
    {
     "name": "stdout",
     "output_type": "stream",
     "text": [
      "Enter Total units consumed: 340\n",
      "Total electricity charges: Rs 426.0 \n"
     ]
    }
   ],
   "source": [
    "units = float(input(\"Enter Total units consumed: \"))\n",
    "\n",
    "if units <=50:\n",
    "    charges = 0.50*units\n",
    "    charges = charges + (0.2*charges)\n",
    "elif units > 50 and units <= 150:\n",
    "    charges = (50*0.50) + 0.75*(units - 50)\n",
    "    charges = charges + (0.2*charges)\n",
    "elif units > 150 and units <= 250:\n",
    "    charges = (50*0.50) + (0.75*100) + 1.20*(units - 150)\n",
    "    charges = charges + (0.2*charges)\n",
    "else:\n",
    "    charges = (50*0.50) + (0.75*100) + (1.20*100) + 1.50*(units - 250)\n",
    "    charges = charges + (0.2*charges)\n",
    "    \n",
    "print(\"Total electricity charges: Rs {} \".format(charges))"
   ]
  }
 ],
 "metadata": {
  "kernelspec": {
   "display_name": "Python 3",
   "language": "python",
   "name": "python3"
  },
  "language_info": {
   "codemirror_mode": {
    "name": "ipython",
    "version": 3
   },
   "file_extension": ".py",
   "mimetype": "text/x-python",
   "name": "python",
   "nbconvert_exporter": "python",
   "pygments_lexer": "ipython3",
   "version": "3.7.9"
  }
 },
 "nbformat": 4,
 "nbformat_minor": 4
}
