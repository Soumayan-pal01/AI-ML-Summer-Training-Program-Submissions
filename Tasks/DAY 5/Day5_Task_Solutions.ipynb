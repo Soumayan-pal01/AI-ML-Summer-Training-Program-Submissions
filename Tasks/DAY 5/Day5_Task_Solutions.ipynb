{
 "cells": [
  {
   "cell_type": "markdown",
   "metadata": {},
   "source": [
    "# Day5_Task_Solutions(1929121_Soumayan)"
   ]
  },
  {
   "cell_type": "markdown",
   "metadata": {},
   "source": [
    "## Task 1"
   ]
  },
  {
   "cell_type": "markdown",
   "metadata": {},
   "source": [
    "### Shallow Copy - Shallow Copy stores the references of objects to the original memory address.  It reflects changes made to the new/copied object in the original object and stores the copy of the original object and points the references to the objects.It is faster.\n"
   ]
  },
  {
   "cell_type": "markdown",
   "metadata": {},
   "source": [
    "### Deep Copy  - Deep copy stores copies of the object’s value but doesn’t reflect changes made to the new/copied object in the original object.It stores the copy of the original object and recursively copies the objects as well. Deep copy is comparatively slower than Shallow Copy."
   ]
  },
  {
   "cell_type": "markdown",
   "metadata": {},
   "source": [
    "## Task 2"
   ]
  },
  {
   "cell_type": "code",
   "execution_count": 1,
   "metadata": {},
   "outputs": [],
   "source": [
    "#Library management Application\n",
    "\n",
    "ibrary = [['Book_1','Book_2''Book_3','Book_N'],['Student ID_1','Student ID_2','Student ID_3','Student ID_N']]\n",
    "book1 = ['ISBN Code1','Serial Number1','Price1','Publisher1','Shelf_no1','genre1']\n",
    "book2 = ['ISBN Code2','Serial Number2','Price2','Publisher2','Shelf_no2','genre2']\n",
    "\n",
    "Student1 = ['Roll no.1','Name1','Department1','Stream1','Book_info1','Fine1','Borrow_Time1','Submission_Time1']\n",
    "Student2 = ['Roll no.2','Name2','Department2','Stream2','Book_info2','Fine2','Borrow_Time2','Submission_Time2']\n",
    "\n",
    "#For N Books\n",
    "bookN = ['ISBN CodeN','Serial NumberN','PriceN','PublisherN','Shelf_noN','genreN']\n",
    "\n",
    "#For X Students\n",
    "StudentX = ['Roll no.X','NameX','DepartmentX','StreamX','Book_infoX','FineX','Borrow_TimeX','Submission_TimeX']"
   ]
  },
  {
   "cell_type": "markdown",
   "metadata": {},
   "source": [
    "## Task 3"
   ]
  },
  {
   "cell_type": "raw",
   "metadata": {},
   "source": [
    "An expression is a type Python statement which contains a logical sequence of numbers, strings, objects, and operators. The value in itself is a valid expression and so is a variable.Using expressions, we can perform operations like addition, subtraction, concatenation and so on. It can also have a call to a function which evaluates results.\n",
    "            Whereas, a statement in Python is a logical instruction which Python interpreter can read and execute. In Python, it could be an expression or an assignment statement.The assignment statement is fundamental to Python. It defines the way an expression creates objects and preserve them."
   ]
  },
  {
   "cell_type": "markdown",
   "metadata": {},
   "source": [
    "## Task 4"
   ]
  },
  {
   "cell_type": "raw",
   "metadata": {},
   "source": [
    "Atomic data types are indivisible which represents only a single data value. Eg. int,float,complex.\n",
    "        Secondary data types on the other hand are collection of multiple data values.Eg. string, list, tuple, set and dictionary. "
   ]
  },
  {
   "cell_type": "markdown",
   "metadata": {},
   "source": [
    "## Task 5"
   ]
  },
  {
   "cell_type": "raw",
   "metadata": {},
   "source": [
    "UDF also known as User Defined Functions in python are the functions that we define ourselves to do certainspecific task without repeating and writing the code multiple times.User-defined functions help to decomposea large program into small segments which makes program easy to understand, maintain and debug. Ifrepeated code occurs in a program these kind of function can be used to include those codes and executewhen needed by calling that function."
   ]
  }
 ],
 "metadata": {
  "kernelspec": {
   "display_name": "Python 3",
   "language": "python",
   "name": "python3"
  },
  "language_info": {
   "codemirror_mode": {
    "name": "ipython",
    "version": 3
   },
   "file_extension": ".py",
   "mimetype": "text/x-python",
   "name": "python",
   "nbconvert_exporter": "python",
   "pygments_lexer": "ipython3",
   "version": "3.7.9"
  }
 },
 "nbformat": 4,
 "nbformat_minor": 4
}
