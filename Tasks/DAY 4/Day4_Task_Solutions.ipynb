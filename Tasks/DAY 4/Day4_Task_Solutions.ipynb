{
 "cells": [
  {
   "cell_type": "markdown",
   "metadata": {},
   "source": [
    "# Day4_Task_Solutions(1929121_Soumayan)"
   ]
  },
  {
   "cell_type": "markdown",
   "metadata": {},
   "source": [
    "## Task 1"
   ]
  },
  {
   "cell_type": "code",
   "execution_count": 17,
   "metadata": {},
   "outputs": [],
   "source": [
    "def stringmethods(str1, str2):\n",
    "    a=str2.split(' ')\n",
    "    b=str1.strip()\n",
    "    c=str2.replace('learning','!@#$%^&*')\n",
    "    d=b.center(20,'!')\n",
    "    e=str2.title()\n",
    "    return 'Output 1',a,'Output 2',b,'Output 3',c,'Output 4',d,'Output 5',e\n",
    "    "
   ]
  },
  {
   "cell_type": "code",
   "execution_count": 18,
   "metadata": {},
   "outputs": [
    {
     "data": {
      "text/plain": [
       "('Output 1',\n",
       " ['I',\n",
       "  'am',\n",
       "  'a',\n",
       "  'data',\n",
       "  'science',\n",
       "  'enthusiast',\n",
       "  'and',\n",
       "  'having',\n",
       "  'experience',\n",
       "  'in',\n",
       "  'building',\n",
       "  'Machine',\n",
       "  'learning',\n",
       "  'and',\n",
       "  'Deep',\n",
       "  'learning',\n",
       "  'models.'],\n",
       " 'Output 2',\n",
       " 'Hello World',\n",
       " 'Output 3',\n",
       " 'I am a data science enthusiast and having experience in building Machine !@#$%^&* and Deep !@#$%^&* models.',\n",
       " 'Output 4',\n",
       " '!!!!Hello World!!!!!',\n",
       " 'Output 5',\n",
       " 'I Am A Data Science Enthusiast And Having Experience In Building Machine Learning And Deep Learning Models.')"
      ]
     },
     "execution_count": 18,
     "metadata": {},
     "output_type": "execute_result"
    }
   ],
   "source": [
    "str1 = '    Hello World                  '\n",
    "str2 = \"I am a data science enthusiast and having experience in building Machine learning and Deep learning models.\"\n",
    "\n",
    "stringmethods(str1,str2)"
   ]
  },
  {
   "cell_type": "markdown",
   "metadata": {},
   "source": [
    "## Task 2"
   ]
  },
  {
   "cell_type": "code",
   "execution_count": 58,
   "metadata": {},
   "outputs": [],
   "source": [
    "def listmethods(lst):\n",
    "    lst.append('RandomisedSearchCV')\n",
    "    lst.pop(7)\n",
    "    lst.remove('epoch')\n",
    "    lst.sort()\n",
    "    return lst"
   ]
  },
  {
   "cell_type": "code",
   "execution_count": 59,
   "metadata": {},
   "outputs": [
    {
     "data": {
      "text/plain": [
       "['ANN',\n",
       " 'K Nearest Neighbors',\n",
       " 'Linear Regression',\n",
       " 'Logistic Regression',\n",
       " 'RNN',\n",
       " 'Random Forest Classifier',\n",
       " 'RandomisedSearchCV',\n",
       " 'SVMs']"
      ]
     },
     "execution_count": 59,
     "metadata": {},
     "output_type": "execute_result"
    }
   ],
   "source": [
    "lst= ['Linear Regression', 'Logistic Regression','K Nearest Neighbors','SVMs','Random Forest Classifier','RNN','ANN','Neural Networks','epoch']\n",
    "\n",
    "listmethods(lst)"
   ]
  },
  {
   "cell_type": "markdown",
   "metadata": {},
   "source": [
    "## Task 3"
   ]
  },
  {
   "cell_type": "code",
   "execution_count": 62,
   "metadata": {},
   "outputs": [],
   "source": [
    "DataStructures = ['Strings','List','Dictionary','Tuples','Sets']\n",
    "DataScience = ['Artificial Intelligence','Machine Learning','Deep Learning','ComputerVision']\n",
    "Dealer_info = [3,{'62.7lk':'BMW X3','54.68lk':'Range Rover Evoque','82.34':'Mercedes E Class'},'Bangalore']\n",
    "Fruitlist = ['Appple','Banana','Guava','Grapes']\n",
    "BRICS_Countries = ['Brazil', 'Russia', 'India', 'China','South Africa']"
   ]
  },
  {
   "cell_type": "code",
   "execution_count": 63,
   "metadata": {},
   "outputs": [
    {
     "name": "stdout",
     "output_type": "stream",
     "text": [
      "['Strings', 'List', 'Dictionary', 'Tuples', 'Sets']\n",
      "['Artificial Intelligence', 'Machine Learning', 'Deep Learning', 'ComputerVision']\n",
      "[3, {'62.7lk': 'BMW X3', '54.68lk': 'Range Rover Evoque', '82.34': 'Mercedes E Class'}, 'Bangalore']\n",
      "['Appple', 'Banana', 'Guava', 'Grapes']\n",
      "['Brazil', 'Russia', 'India', 'China', 'South Africa']\n"
     ]
    }
   ],
   "source": [
    "for i in (DataStructures,DataScience,Dealer_info,Fruitlist,BRICS_Countries):\n",
    "  print(i)"
   ]
  },
  {
   "cell_type": "markdown",
   "metadata": {},
   "source": [
    "## Task 4"
   ]
  },
  {
   "cell_type": "raw",
   "metadata": {},
   "source": [
    "Mutable datatype means a datatype that can be changed after creating it. Eg. list,dict,set,bytearray,user-defined classes.\n",
    "            The datatype, for which we can not change the value is called immutable dataype.Eg.int,float,decimal,complex,bool,string,tuple,range,frozenset,bytes. "
   ]
  },
  {
   "cell_type": "markdown",
   "metadata": {},
   "source": [
    "## Task 5"
   ]
  },
  {
   "cell_type": "raw",
   "metadata": {},
   "source": [
    "A Python identifier is a name used to identify a variable, function, class, module or other object. An identifier starts with a letter A to Z or a to z or an underscore (_) followed by zero or more letters, underscores and digits (0 to 9).\n",
    "        Few rules for naming Python identifiers are:\n",
    "                1).Class names start with an uppercase letter. All other identifiers start with a lowercase letter.\n",
    "                2).Starting an identifier with a single leading underscore indicates that the identifier is private.\n",
    "                3).Starting an identifier with two leading underscores indicates a strongly private identifier.\n",
    "                4).If the identifier also ends with two trailing underscores the identifier is a language-defined special name."
   ]
  },
  {
   "cell_type": "code",
   "execution_count": null,
   "metadata": {},
   "outputs": [],
   "source": []
  }
 ],
 "metadata": {
  "kernelspec": {
   "display_name": "Python 3",
   "language": "python",
   "name": "python3"
  },
  "language_info": {
   "codemirror_mode": {
    "name": "ipython",
    "version": 3
   },
   "file_extension": ".py",
   "mimetype": "text/x-python",
   "name": "python",
   "nbconvert_exporter": "python",
   "pygments_lexer": "ipython3",
   "version": "3.7.9"
  }
 },
 "nbformat": 4,
 "nbformat_minor": 4
}
