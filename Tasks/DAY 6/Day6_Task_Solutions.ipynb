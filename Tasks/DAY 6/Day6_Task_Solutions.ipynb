{
 "cells": [
  {
   "cell_type": "markdown",
   "metadata": {},
   "source": [
    "# Day6_Task_Solutions(1929121_Soumayan)"
   ]
  },
  {
   "cell_type": "markdown",
   "metadata": {},
   "source": [
    "## Task 1"
   ]
  },
  {
   "cell_type": "raw",
   "metadata": {},
   "source": [
    "10 project ideas using Python:\n",
    "    1. Ludo Game\n",
    "    2. Speed Typing Test\n",
    "    3. Library Management System\n",
    "    4. Pinball Game\n",
    "    5. Image Resize Application\n",
    "    6. Python File Manager\n",
    "    7. COVID-19 Spread Analysis\n",
    "    8. Price Comparison from multiple web sources\n",
    "    9. Plagiarism Checker\n",
    "    10. Currency Converter\n",
    "    "
   ]
  },
  {
   "cell_type": "markdown",
   "metadata": {},
   "source": [
    "## Task 2"
   ]
  },
  {
   "cell_type": "code",
   "execution_count": 3,
   "metadata": {},
   "outputs": [
    {
     "name": "stdout",
     "output_type": "stream",
     "text": [
      "Algorithm Name : Logistic Regression, Accuracy percentage : 67%\n",
      "Algorithm Name : Radom Forest Regressor, Accuracy percentage : 83%\n",
      "Algorithm Name : XGBooster, Accuracy percentage : 92%\n",
      "Algorithm Name : CART, Accuracy percentage : 87%\n",
      "Algorithm Name : ID3, Accuracy percentage : 91%\n"
     ]
    }
   ],
   "source": [
    "class Algo:\n",
    "    def __init__(self, algo_name, accuracy):\n",
    "        self.algo_name = algo_name\n",
    "        self.accuracy = accuracy\n",
    "        \n",
    "algo_lst = []\n",
    "algo_lst.append(Algo(\"Logistic Regression\", 67))\n",
    "algo_lst.append(Algo(\"Radom Forest Regressor\", 83))\n",
    "algo_lst.append(Algo(\"XGBooster\", 92))\n",
    "algo_lst.append(Algo(\"CART\", 87))\n",
    "algo_lst.append(Algo(\"ID3\", 91))\n",
    "\n",
    "for Algo in algo_lst:\n",
    "    print('Algorithm Name : {}, Accuracy percentage : {}%'.format(Algo.algo_name,Algo.accuracy))\n",
    "        "
   ]
  },
  {
   "cell_type": "markdown",
   "metadata": {},
   "source": [
    "## Task 3"
   ]
  },
  {
   "cell_type": "raw",
   "metadata": {},
   "source": [
    "Duck typing in python is related to dynamic typing, where the type or the class of an object is less important than the methods it defines. While using duck typing, the presence of a given method or attribute is checked instead of checking the types.\n",
    "                Dunder methods have two prefix and suffix underscores in the method name. These magic methods are commonly used for operator overloading. Eg:  __init__, __add__, __len__etc."
   ]
  },
  {
   "cell_type": "markdown",
   "metadata": {},
   "source": [
    "## Task 4"
   ]
  },
  {
   "cell_type": "raw",
   "metadata": {},
   "source": [
    "Type Casting is the method to convert the variable data type into a certain data type in order to the operation required to be performed by users. In this article, we will see the various technique for typecasting.\n",
    "\n",
    "There can be two types of Type Casting in Python –\n",
    "\n",
    "Implicit Type Casting - Conversion of data type into another data type automatically\n",
    "Explicit Type Casting - Needs user involvement to convert the variable data type into certain data type in order to the                                 operation required."
   ]
  },
  {
   "cell_type": "code",
   "execution_count": 1,
   "metadata": {},
   "outputs": [
    {
     "name": "stdout",
     "output_type": "stream",
     "text": [
      "7\n",
      "<class 'int'>\n"
     ]
    }
   ],
   "source": [
    "#implicit typecasting\n",
    "a = 7\n",
    "\n",
    "print(a)\n",
    "print(type(a))"
   ]
  },
  {
   "cell_type": "code",
   "execution_count": 12,
   "metadata": {},
   "outputs": [
    {
     "name": "stdout",
     "output_type": "stream",
     "text": [
      "5.0\n",
      "<class 'float'>\n"
     ]
    }
   ],
   "source": [
    "#explicit typecasting\n",
    "a = 5\n",
    "n = float(a)\n",
    "  \n",
    "print(n)\n",
    "print(type(n))"
   ]
  },
  {
   "cell_type": "markdown",
   "metadata": {},
   "source": [
    "## Task 5"
   ]
  },
  {
   "cell_type": "raw",
   "metadata": {},
   "source": [
    "Operators in general are used to perform operations on values and variables in Python. These are standard symbols used for the purpose of logical and arithmetic operations. In this article, we will look into different types of Python operators.\n",
    "            Different types of operators present in python are:\n",
    "            1). Arithmetic operators: Arithmetic operators are used to perform mathematical operations.\n",
    "            2). Relational Operators: Relational operators compares the values. It either returns True or False according to the \n",
    "                condition.\n",
    "            3). Logical operators: Logical operators perform Logical AND, Logical OR and Logical NOT operations.\n",
    "            4). Bitwise operators: Bitwise operators acts on bits and performs bit by bit operation.\n",
    "            5). Assignment operators: Assignment operators are used to assign values to the variables.\n",
    "            6). Precedence and Associativity of Operators: Operator precedence and associativity as these determine the \n",
    "                priorities of the operator."
   ]
  }
 ],
 "metadata": {
  "kernelspec": {
   "display_name": "Python 3",
   "language": "python",
   "name": "python3"
  },
  "language_info": {
   "codemirror_mode": {
    "name": "ipython",
    "version": 3
   },
   "file_extension": ".py",
   "mimetype": "text/x-python",
   "name": "python",
   "nbconvert_exporter": "python",
   "pygments_lexer": "ipython3",
   "version": "3.7.9"
  }
 },
 "nbformat": 4,
 "nbformat_minor": 4
}
